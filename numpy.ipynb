{
  "nbformat": 4,
  "nbformat_minor": 0,
  "metadata": {
    "colab": {
      "provenance": [],
      "authorship_tag": "ABX9TyOWHQquMIFXzKeVpGEGMxhF",
      "include_colab_link": true
    },
    "kernelspec": {
      "name": "python3",
      "display_name": "Python 3"
    },
    "language_info": {
      "name": "python"
    }
  },
  "cells": [
    {
      "cell_type": "markdown",
      "metadata": {
        "id": "view-in-github",
        "colab_type": "text"
      },
      "source": [
        "<a href=\"https://colab.research.google.com/github/Ammu3103/Matplotlib-Numpy-Pandas-Seaborn-Notes/blob/main/numpy.ipynb\" target=\"_parent\"><img src=\"https://colab.research.google.com/assets/colab-badge.svg\" alt=\"Open In Colab\"/></a>"
      ]
    },
    {
      "cell_type": "markdown",
      "source": [
        "# Introduction to numpy\n"
      ],
      "metadata": {
        "id": "ICLlnUbgRWPV"
      }
    },
    {
      "cell_type": "markdown",
      "source": [
        "**Benefits of numpy array over a list**\n",
        "\n",
        "> Less Memory\n",
        "\n",
        "> Fast\n",
        "\n",
        "> Convinient\n",
        "\n",
        "\n",
        "\n",
        "\n",
        "\n",
        "\n",
        "\n",
        "\n",
        "\n",
        "\n",
        "\n",
        "\n",
        "\n",
        "\n",
        "\n"
      ],
      "metadata": {
        "id": "lhYspyMTSLFP"
      }
    },
    {
      "cell_type": "code",
      "source": [
        "import numpy as np\n",
        "import time\n",
        "import sys"
      ],
      "metadata": {
        "id": "8QaU7HBuRfEc"
      },
      "execution_count": null,
      "outputs": []
    },
    {
      "cell_type": "code",
      "execution_count": null,
      "metadata": {
        "colab": {
          "base_uri": "https://localhost:8080/"
        },
        "id": "MhodtEjSRRsy",
        "outputId": "06130cb3-a178-4056-f2bf-90d8d88cb7a0"
      },
      "outputs": [
        {
          "output_type": "stream",
          "name": "stdout",
          "text": [
            "[3 5 7]\n",
            "[-1 -1 -1]\n",
            "[ 2  6 12]\n",
            "[0.5        0.66666667 0.75      ]\n",
            "20\n"
          ]
        },
        {
          "output_type": "execute_result",
          "data": {
            "text/plain": [
              "1"
            ]
          },
          "metadata": {},
          "execution_count": 23
        }
      ],
      "source": [
        "a=np.array([1,2,3])#1D Array\n",
        "b=np.array([2,3,4])\n",
        "print(a+b)\n",
        "print(a-b)\n",
        "print(a*b)\n",
        "print(a/b)\n",
        "print(a.dot(b))\n",
        "a[0]"
      ]
    },
    {
      "cell_type": "code",
      "source": [
        "a = np.array([[1,2],[3,4],[5,6]])#2d---array\n",
        "print(a.ndim)\n",
        "print(a.itemsize)"
      ],
      "metadata": {
        "id": "4bk0Y_9Banyo",
        "colab": {
          "base_uri": "https://localhost:8080/"
        },
        "outputId": "7ec2fa74-7203-44a4-e572-c33293d0b9b9"
      },
      "execution_count": null,
      "outputs": [
        {
          "output_type": "stream",
          "name": "stdout",
          "text": [
            "2\n",
            "8\n"
          ]
        }
      ]
    },
    {
      "cell_type": "code",
      "source": [
        "a = np.array([[1,2],[3,4],[5,6]], dtype=np.float64)#2d---array,dtype=complex\n",
        "print(a.ndim)\n",
        "print(a.dtype)\n",
        "print(a)\n",
        "print(a.size)#number of elements in array\n",
        "print(a.shape)#matrix representation of array\n",
        "print(a.itemsize)"
      ],
      "metadata": {
        "colab": {
          "base_uri": "https://localhost:8080/"
        },
        "id": "Hq-IkIFJoIq3",
        "outputId": "58249054-fcb9-4619-93c6-b5ee7c896fa4"
      },
      "execution_count": null,
      "outputs": [
        {
          "output_type": "stream",
          "name": "stdout",
          "text": [
            "2\n",
            "float64\n",
            "[[1. 2.]\n",
            " [3. 4.]\n",
            " [5. 6.]]\n",
            "6\n",
            "(3, 2)\n",
            "8\n"
          ]
        }
      ]
    },
    {
      "cell_type": "code",
      "source": [
        "np.zeros((3,5))#Generates (3,5)shaped 0 array"
      ],
      "metadata": {
        "colab": {
          "base_uri": "https://localhost:8080/"
        },
        "id": "X8MYBQIbp8-z",
        "outputId": "301f8e78-fee7-4ca9-eb15-f4b8350b56af"
      },
      "execution_count": null,
      "outputs": [
        {
          "output_type": "execute_result",
          "data": {
            "text/plain": [
              "array([[0., 0., 0., 0., 0.],\n",
              "       [0., 0., 0., 0., 0.],\n",
              "       [0., 0., 0., 0., 0.]])"
            ]
          },
          "metadata": {},
          "execution_count": 9
        }
      ]
    },
    {
      "cell_type": "code",
      "source": [
        "np.ones((3,5))#Generates (3,5)shaped 1 array"
      ],
      "metadata": {
        "id": "YEssz5SSqPD6"
      },
      "execution_count": null,
      "outputs": []
    },
    {
      "cell_type": "code",
      "source": [
        "l=range(5)\n",
        "print(l)\n",
        "print(l[0])"
      ],
      "metadata": {
        "colab": {
          "base_uri": "https://localhost:8080/"
        },
        "id": "Tw4LgOl5qbHV",
        "outputId": "cbd544c9-d9e1-4fa2-fc78-339ce827988c"
      },
      "execution_count": null,
      "outputs": [
        {
          "output_type": "stream",
          "name": "stdout",
          "text": [
            "range(0, 5)\n",
            "0\n"
          ]
        }
      ]
    },
    {
      "cell_type": "code",
      "source": [
        "a=np.arange(1,5)\n",
        "a"
      ],
      "metadata": {
        "colab": {
          "base_uri": "https://localhost:8080/"
        },
        "id": "LpsZ1reGqyDp",
        "outputId": "35b02c15-864a-4228-e720-c57b3d470dcc"
      },
      "execution_count": null,
      "outputs": [
        {
          "output_type": "execute_result",
          "data": {
            "text/plain": [
              "array([1, 2, 3, 4])"
            ]
          },
          "metadata": {},
          "execution_count": 13
        }
      ]
    },
    {
      "cell_type": "code",
      "source": [
        "a=np.arange(1,9,3)#np.arange(start,end,step)\n",
        "a"
      ],
      "metadata": {
        "colab": {
          "base_uri": "https://localhost:8080/"
        },
        "id": "ytwGNAC_rFM3",
        "outputId": "46ecb527-06ee-42f2-f566-8b7296051bf1"
      },
      "execution_count": null,
      "outputs": [
        {
          "output_type": "execute_result",
          "data": {
            "text/plain": [
              "array([1, 4, 7])"
            ]
          },
          "metadata": {},
          "execution_count": 14
        }
      ]
    },
    {
      "cell_type": "code",
      "source": [
        "a=np.linspace(1,5,10)#np.linspace(start,end,num) here means linearly spaced"
      ],
      "metadata": {
        "id": "vYrTpjFkrhox"
      },
      "execution_count": null,
      "outputs": []
    },
    {
      "cell_type": "code",
      "source": [
        "a = np.array([[1,2],[3,4],[5,6]])\n",
        "print(a.ravel())\n",
        "print(a.reshape(2,3))\n",
        "print(a.max())\n",
        "print(a.min())\n",
        "print(a.sum())\n",
        "print(a.sum(axis=0))\n",
        "print(a.sum(axis=1))\n",
        "print(np.sqrt(a))\n",
        "print(np.std(a))"
      ],
      "metadata": {
        "colab": {
          "base_uri": "https://localhost:8080/"
        },
        "id": "0ddYyFx-sQMw",
        "outputId": "f7c3c089-85b5-45aa-c0b6-593f69ae39c6"
      },
      "execution_count": null,
      "outputs": [
        {
          "output_type": "stream",
          "name": "stdout",
          "text": [
            "[1 2 3 4 5 6]\n",
            "[[1 2 3]\n",
            " [4 5 6]]\n",
            "6\n",
            "1\n",
            "21\n",
            "[ 9 12]\n",
            "[ 3  7 11]\n",
            "[[1.         1.41421356]\n",
            " [1.73205081 2.        ]\n",
            " [2.23606798 2.44948974]]\n",
            "1.707825127659933\n"
          ]
        }
      ]
    },
    {
      "cell_type": "markdown",
      "source": [
        "# Slicing,Indexing Array\n"
      ],
      "metadata": {
        "id": "ScGZpP-l2m6w"
      }
    },
    {
      "cell_type": "code",
      "source": [
        "a=np.array([6,7,8])\n",
        "b= np.array([[6,7,8],[9,0,4],[1,2,3]])\n",
        "print(a[0:2])\n",
        "print(a[-1])\n",
        "print(b[0:2,2])\n",
        "print(b[-1])\n",
        "print(b[-1,0:2])\n",
        "print(b[:,1:])\n"
      ],
      "metadata": {
        "colab": {
          "base_uri": "https://localhost:8080/"
        },
        "id": "zF2nwj6LxN51",
        "outputId": "53b06f35-0962-40a6-913d-c77a575712e6"
      },
      "execution_count": null,
      "outputs": [
        {
          "output_type": "stream",
          "name": "stdout",
          "text": [
            "[6 7]\n",
            "8\n",
            "[8 4]\n",
            "[1 2 3]\n",
            "[1 2]\n",
            "[[7 8]\n",
            " [0 4]\n",
            " [2 3]]\n"
          ]
        }
      ]
    },
    {
      "cell_type": "code",
      "source": [
        "a= np.array([[6,7,8],[9,0,4],[1,2,3]])\n",
        "for row in a:\n",
        "  print(row)\n",
        "for cell in a.flat:\n",
        "  print(cell)"
      ],
      "metadata": {
        "colab": {
          "base_uri": "https://localhost:8080/"
        },
        "id": "i4jGAqYSyuHi",
        "outputId": "e9b8fb5f-2ded-461e-ef68-f810e21ffe84"
      },
      "execution_count": null,
      "outputs": [
        {
          "output_type": "stream",
          "name": "stdout",
          "text": [
            "[6 7 8]\n",
            "[9 0 4]\n",
            "[1 2 3]\n",
            "6\n",
            "7\n",
            "8\n",
            "9\n",
            "0\n",
            "4\n",
            "1\n",
            "2\n",
            "3\n"
          ]
        }
      ]
    },
    {
      "cell_type": "code",
      "source": [
        "from numpy.core.shape_base import vstack\n",
        "a=np.arange(6).reshape(3,2)\n",
        "b=np.arange(6,12).reshape(3,2)\n",
        "print(a)\n",
        "print(b)\n",
        "print(np.vstack((a,b)))\n",
        "print(np.hstack((a,b)))"
      ],
      "metadata": {
        "colab": {
          "base_uri": "https://localhost:8080/"
        },
        "id": "uFzKrRvGzkWc",
        "outputId": "c247cd96-9966-4950-eb0a-87626e7fd265"
      },
      "execution_count": null,
      "outputs": [
        {
          "output_type": "stream",
          "name": "stdout",
          "text": [
            "[[0 1]\n",
            " [2 3]\n",
            " [4 5]]\n",
            "[[ 6  7]\n",
            " [ 8  9]\n",
            " [10 11]]\n",
            "[[ 0  1]\n",
            " [ 2  3]\n",
            " [ 4  5]\n",
            " [ 6  7]\n",
            " [ 8  9]\n",
            " [10 11]]\n"
          ]
        }
      ]
    },
    {
      "cell_type": "code",
      "source": [
        "a=np.arange(30).reshape(2,15)\n",
        "res= np.hsplit(a,3)\n",
        "resv=np.vsplit(a,2)\n",
        "print(res[0])\n",
        "print(res[1])\n",
        "print(res[1])\n",
        "print('---------------')\n",
        "print(resv[0])\n",
        "print(resv[1])"
      ],
      "metadata": {
        "colab": {
          "base_uri": "https://localhost:8080/"
        },
        "id": "jKpOyv7Q0gSv",
        "outputId": "01f8acd7-b67c-4f97-acf1-88de4b0f6cd4"
      },
      "execution_count": null,
      "outputs": [
        {
          "output_type": "stream",
          "name": "stdout",
          "text": [
            "[[ 0  1  2  3  4]\n",
            " [15 16 17 18 19]]\n",
            "[[ 5  6  7  8  9]\n",
            " [20 21 22 23 24]]\n",
            "[[ 5  6  7  8  9]\n",
            " [20 21 22 23 24]]\n",
            "---------------\n",
            "[[ 0  1  2  3  4  5  6  7  8  9 10 11 12 13 14]]\n",
            "[[15 16 17 18 19 20 21 22 23 24 25 26 27 28 29]]\n"
          ]
        }
      ]
    },
    {
      "cell_type": "code",
      "source": [
        "a=np.arange(12).reshape(3,4)\n",
        "b=a>4\n",
        "print(a)\n",
        "print(b)\n",
        "print(a[b])\n",
        "print(a[b]==-1)"
      ],
      "metadata": {
        "colab": {
          "base_uri": "https://localhost:8080/"
        },
        "id": "0aesdkog1Nl7",
        "outputId": "83478023-b5bb-41c5-8d28-52443c13f975"
      },
      "execution_count": null,
      "outputs": [
        {
          "output_type": "stream",
          "name": "stdout",
          "text": [
            "[[ 0  1  2  3]\n",
            " [ 4  5  6  7]\n",
            " [ 8  9 10 11]]\n",
            "[[False False False False]\n",
            " [False  True  True  True]\n",
            " [ True  True  True  True]]\n",
            "[ 5  6  7  8  9 10 11]\n",
            "[False False False False False False False]\n"
          ]
        }
      ]
    },
    {
      "cell_type": "markdown",
      "source": [
        "# Iterate numpy array using nditer\n"
      ],
      "metadata": {
        "id": "17wCS4Cg24XB"
      }
    },
    {
      "cell_type": "code",
      "source": [
        "a= np.arange(12).reshape(3,4)\n",
        "a"
      ],
      "metadata": {
        "colab": {
          "base_uri": "https://localhost:8080/"
        },
        "id": "QnyofdeK2z3r",
        "outputId": "9b847ef3-c0f3-448c-c030-9ff491018633"
      },
      "execution_count": null,
      "outputs": [
        {
          "output_type": "execute_result",
          "data": {
            "text/plain": [
              "array([[ 0,  1,  2,  3],\n",
              "       [ 4,  5,  6,  7],\n",
              "       [ 8,  9, 10, 11]])"
            ]
          },
          "metadata": {},
          "execution_count": 43
        }
      ]
    },
    {
      "cell_type": "code",
      "source": [
        "for row in a:\n",
        "  for cell in row:\n",
        "    print(cell)"
      ],
      "metadata": {
        "colab": {
          "base_uri": "https://localhost:8080/"
        },
        "id": "Qc7TGNfr3J5x",
        "outputId": "8e179a64-110c-4589-ae3f-2bfd00b34069"
      },
      "execution_count": null,
      "outputs": [
        {
          "output_type": "stream",
          "name": "stdout",
          "text": [
            "0\n",
            "1\n",
            "2\n",
            "3\n",
            "4\n",
            "5\n",
            "6\n",
            "7\n",
            "8\n",
            "9\n",
            "10\n",
            "11\n"
          ]
        }
      ]
    },
    {
      "cell_type": "code",
      "source": [
        "for cell in a.flatten():\n",
        "  print(cell)"
      ],
      "metadata": {
        "colab": {
          "base_uri": "https://localhost:8080/"
        },
        "id": "thBWf0sa3Y9M",
        "outputId": "7c018f88-0f89-430b-9f17-27e518451037"
      },
      "execution_count": null,
      "outputs": [
        {
          "output_type": "stream",
          "name": "stdout",
          "text": [
            "0\n",
            "1\n",
            "2\n",
            "3\n",
            "4\n",
            "5\n",
            "6\n",
            "7\n",
            "8\n",
            "9\n",
            "10\n",
            "11\n"
          ]
        }
      ]
    },
    {
      "cell_type": "code",
      "source": [
        "for x in np.nditer(a,order='c'):\n",
        "  print(x)"
      ],
      "metadata": {
        "colab": {
          "base_uri": "https://localhost:8080/"
        },
        "id": "7Cs8TzjD3tbE",
        "outputId": "3316c2ee-a624-4d4b-bdaf-4f993fd13bb8"
      },
      "execution_count": null,
      "outputs": [
        {
          "output_type": "stream",
          "name": "stdout",
          "text": [
            "0\n",
            "1\n",
            "2\n",
            "3\n",
            "4\n",
            "5\n",
            "6\n",
            "7\n",
            "8\n",
            "9\n",
            "10\n",
            "11\n"
          ]
        }
      ]
    },
    {
      "cell_type": "code",
      "source": [
        "for x in np.nditer(a,order='F'):\n",
        "  print(x)"
      ],
      "metadata": {
        "colab": {
          "base_uri": "https://localhost:8080/"
        },
        "id": "MW_GAJff38VM",
        "outputId": "3c1be734-68ea-4271-e606-d2ef025a0b4b"
      },
      "execution_count": null,
      "outputs": [
        {
          "output_type": "stream",
          "name": "stdout",
          "text": [
            "0\n",
            "4\n",
            "8\n",
            "1\n",
            "5\n",
            "9\n",
            "2\n",
            "6\n",
            "10\n",
            "3\n",
            "7\n",
            "11\n"
          ]
        }
      ]
    },
    {
      "cell_type": "code",
      "source": [
        "for x in np.nditer(a,order='F',flags=['external_loop']):\n",
        "  print(x)"
      ],
      "metadata": {
        "colab": {
          "base_uri": "https://localhost:8080/"
        },
        "id": "Bvtt63NT4Pea",
        "outputId": "f17cd957-b41f-4288-d0fe-562e06decad6"
      },
      "execution_count": null,
      "outputs": [
        {
          "output_type": "stream",
          "name": "stdout",
          "text": [
            "[0 4 8]\n",
            "[1 5 9]\n",
            "[ 2  6 10]\n",
            "[ 3  7 11]\n"
          ]
        }
      ]
    },
    {
      "cell_type": "code",
      "source": [
        "for x in np.nditer(a,order='F',op_flags=['readwrite']):\n",
        "  x[...]=x*x"
      ],
      "metadata": {
        "id": "4iZ3M4AH40AC"
      },
      "execution_count": null,
      "outputs": []
    },
    {
      "cell_type": "code",
      "source": [
        "a\n"
      ],
      "metadata": {
        "colab": {
          "base_uri": "https://localhost:8080/"
        },
        "id": "ATZYVwZt5AKZ",
        "outputId": "e74d4673-9323-44ad-c79c-4ff13c8cdba9"
      },
      "execution_count": null,
      "outputs": [
        {
          "output_type": "execute_result",
          "data": {
            "text/plain": [
              "array([[  0,   1,   4,   9],\n",
              "       [ 16,  25,  36,  49],\n",
              "       [ 64,  81, 100, 121]])"
            ]
          },
          "metadata": {},
          "execution_count": 54
        }
      ]
    },
    {
      "cell_type": "code",
      "source": [
        "b = np.arange(3,15,4).reshape(3,1 )\n",
        "b"
      ],
      "metadata": {
        "colab": {
          "base_uri": "https://localhost:8080/"
        },
        "id": "7lXusfkR5GTy",
        "outputId": "855a6a7e-0805-4d36-80bd-1a7923364bd3"
      },
      "execution_count": null,
      "outputs": [
        {
          "output_type": "execute_result",
          "data": {
            "text/plain": [
              "array([[ 3],\n",
              "       [ 7],\n",
              "       [11]])"
            ]
          },
          "metadata": {},
          "execution_count": 56
        }
      ]
    },
    {
      "cell_type": "code",
      "source": [
        "for x,y in np.nditer([a,b]):#in this shape both arrays shape should be competable\n",
        "  print(x,y)"
      ],
      "metadata": {
        "colab": {
          "base_uri": "https://localhost:8080/"
        },
        "id": "XT1w182-5ibt",
        "outputId": "15fe1677-26c6-4443-82e1-98348f15b193"
      },
      "execution_count": null,
      "outputs": [
        {
          "output_type": "stream",
          "name": "stdout",
          "text": [
            "0 3\n",
            "1 3\n",
            "4 3\n",
            "9 3\n",
            "16 7\n",
            "25 7\n",
            "36 7\n",
            "49 7\n",
            "64 11\n",
            "81 11\n",
            "100 11\n",
            "121 11\n"
          ]
        }
      ]
    }
  ]
}